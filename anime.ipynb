{
 "cells": [
  {
   "cell_type": "markdown",
   "metadata": {},
   "source": [
    "# Imports and dataframes read"
   ]
  },
  {
   "cell_type": "code",
   "execution_count": 12,
   "metadata": {},
   "outputs": [],
   "source": [
    "import pandas as pd\n",
    "import numpy as np\n",
    "import csv as cv\n",
    "from sklearn.feature_extraction.text import CountVectorizer\n",
    "from sklearn.metrics.pairwise import cosine_similarity"
   ]
  },
  {
   "cell_type": "code",
   "execution_count": 13,
   "metadata": {},
   "outputs": [
    {
     "name": "stdout",
     "output_type": "stream",
     "text": [
      "(4375, 8)\n"
     ]
    }
   ],
   "source": [
    "# read csv file into dataframe\n",
    "df = pd.read_csv('new_anime.csv')\n",
    "print(df.shape)"
   ]
  },
  {
   "cell_type": "markdown",
   "metadata": {},
   "source": [
    "# Processing csv file"
   ]
  },
  {
   "cell_type": "code",
   "execution_count": 14,
   "metadata": {},
   "outputs": [
    {
     "data": {
      "text/plain": [
       "(3568, 8)"
      ]
     },
     "execution_count": 14,
     "metadata": {},
     "output_type": "execute_result"
    }
   ],
   "source": [
    "data = range(len(df))\n",
    "\n",
    "for i in data:\n",
    "    if df.loc[i]['VAs'] == ' \\'\\'':\n",
    "        df = df.drop(labels=i,axis=0)\n",
    "\n",
    "df.shape"
   ]
  },
  {
   "cell_type": "code",
   "execution_count": 15,
   "metadata": {},
   "outputs": [
    {
     "name": "stdout",
     "output_type": "stream",
     "text": [
      "0       KonoSubarashiiSekainiShukufukuwo!2 StudioDeen ...\n",
      "1       Kobayashi-sanChinoMaidDragon KyotoAnimation Ma...\n",
      "2       YoujoSenki Nut Lightnovel Action Isekai Milita...\n",
      "3       Masamune-kunnoRevenge SILVERLINK. Manga Comedy...\n",
      "4       AonoExorcist:KyotoFujouou-hen A-1Pictures Mang...\n",
      "                              ...                        \n",
      "4355    KaitouJoker4thSeason Shin-EiAnimation Manga Ad...\n",
      "4356    BishoujoYuugiUnitCraneGameGirlsGalaxy Kyotoma ...\n",
      "4357    3-NenD-GumiGlassnoKamen DLE Manga Comedy Parod...\n",
      "4358    Heybot! BandaiNamcoPictures Original Comedy Sc...\n",
      "4360    KamigaminoKi Sotsu Original Comedy Supernatura...\n",
      "Name: soup, Length: 3568, dtype: object\n"
     ]
    }
   ],
   "source": [
    "def create_soup(x):\n",
    "    result = x['Anime Title']\n",
    "\n",
    "    if x['Studio'] != 'n/a':\n",
    "        result += ' ' + x['Studio']\n",
    "    if x['Source Material'] != 'n/a':\n",
    "        result += ' ' + x['Source Material']\n",
    "    if x['Genre'] != 'n/a':\n",
    "        result += ' ' + x['Genre']\n",
    "    if x['VAs'] != 'n/a':\n",
    "        result += ' ' + x['VAs']\n",
    "    \n",
    "    punc = '[],\\'\\\"'\n",
    "    \n",
    "    for ele in result:\n",
    "        if ele in punc:\n",
    "            result = result.replace(ele, \"\")\n",
    "\n",
    "    return result\n",
    "\n",
    "df['soup'] = df.apply(create_soup,axis = 1)\n",
    "\n",
    "#df = df.drop(['Rating', 'Studio', 'Source Material', 'Demographic', 'Genre', 'VAs'], axis=1)\n",
    "\n",
    "df.to_csv(\"anime_soup.csv\", index=None)\n",
    "\n",
    "print(df['soup'])"
   ]
  },
  {
   "cell_type": "code",
   "execution_count": 16,
   "metadata": {},
   "outputs": [
    {
     "data": {
      "text/plain": [
       "(3568, 28261)"
      ]
     },
     "execution_count": 16,
     "metadata": {},
     "output_type": "execute_result"
    }
   ],
   "source": [
    "count = CountVectorizer()\n",
    "count_matrix = count.fit_transform(df['soup'])\n",
    "count_matrix.shape"
   ]
  },
  {
   "cell_type": "code",
   "execution_count": 17,
   "metadata": {},
   "outputs": [
    {
     "name": "stdout",
     "output_type": "stream",
     "text": [
      "[[1.         0.07302967 0.10741723 ... 0.09759001 0.08377078 0.02663118]\n",
      " [0.07302967 1.         0.         ... 0.1069045  0.         0.        ]\n",
      " [0.10741723 0.         1.         ... 0.         0.         0.        ]\n",
      " ...\n",
      " [0.09759001 0.1069045  0.         ... 1.         0.12262787 0.03898406]\n",
      " [0.08377078 0.         0.         ... 0.12262787 1.         0.06692745]\n",
      " [0.02663118 0.         0.         ... 0.03898406 0.06692745 1.        ]]\n"
     ]
    }
   ],
   "source": [
    "cosine_sim2 = cosine_similarity(count_matrix, count_matrix)\n",
    "\n",
    "print(cosine_sim2)\n",
    "\n",
    "df = df.reset_index()\n",
    "# indices = pd.Series(df.index, index=df['Id'])\n",
    "\n",
    "# print(indices)"
   ]
  },
  {
   "cell_type": "code",
   "execution_count": 36,
   "metadata": {},
   "outputs": [],
   "source": [
    "def get_recs(id, cosine_sim = cosine_sim2):\n",
    "    # get the index of the anime that matches the id\n",
    "    id2 = '\\'' + str(id) + '\\''\n",
    "    idx = (df.loc[df['Id'] == id2].index[0])\n",
    "\n",
    "    # find sim score of the inputed anime with all other animes\n",
    "    sim_scores = list(enumerate(cosine_sim[idx]))\n",
    "\n",
    "    # sort based on sim scores desc\n",
    "    sim_scores = sorted(sim_scores, key=lambda x: x[1], reverse=True)\n",
    "\n",
    "    # get recommended animes index\n",
    "    anime_indices = [i[0] for i in sim_scores]\n",
    "    for i in range(len(sim_scores)):\n",
    "        if i > 10:\n",
    "            break\n",
    "        else:\n",
    "            print(df['Anime Title'].iloc[anime_indices[i]])\n",
    "\n",
    "    # return df['Anime Title'].iloc[anime_indices]"
   ]
  },
  {
   "cell_type": "code",
   "execution_count": 38,
   "metadata": {},
   "outputs": [
    {
     "name": "stdout",
     "output_type": "stream",
     "text": [
      "'OnePiece'\n",
      "'GetterRoboGo'\n",
      "'BoukenOuBeetExcellion'\n",
      "'Dokidoki♡Densetsu:MahoujinGuruguru'\n",
      "'DragonBallKai'\n",
      "'KishinDoujiZenki'\n",
      "'NogsaegjeonchaHamos'\n",
      "'Croket!'\n",
      "'KuusouKagakuSekaiGulliverBoy'\n",
      "'AsobotSenkiGokuu'\n",
      "'Toriko'\n"
     ]
    }
   ],
   "source": [
    "get_recs(21, cosine_sim2)"
   ]
  }
 ],
 "metadata": {
  "kernelspec": {
   "display_name": "Python 3.10.8 64-bit (microsoft store)",
   "language": "python",
   "name": "python3"
  },
  "language_info": {
   "codemirror_mode": {
    "name": "ipython",
    "version": 3
   },
   "file_extension": ".py",
   "mimetype": "text/x-python",
   "name": "python",
   "nbconvert_exporter": "python",
   "pygments_lexer": "ipython3",
   "version": "3.10.8"
  },
  "orig_nbformat": 4,
  "vscode": {
   "interpreter": {
    "hash": "0734c24ccee641e8c1aa56e5abe0e6d58c5e64b0808290a0db05a6d9678c0817"
   }
  }
 },
 "nbformat": 4,
 "nbformat_minor": 2
}
